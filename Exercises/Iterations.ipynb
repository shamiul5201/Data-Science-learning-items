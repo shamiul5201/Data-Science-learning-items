{
 "cells": [
  {
   "cell_type": "code",
   "execution_count": 1,
   "id": "9411f513",
   "metadata": {},
   "outputs": [],
   "source": [
    "even = [0,2,4,6,8,10,12,14,16,18,20]"
   ]
  },
  {
   "cell_type": "code",
   "execution_count": 3,
   "id": "eca34ff3",
   "metadata": {},
   "outputs": [
    {
     "name": "stdout",
     "output_type": "stream",
     "text": [
      "0 2 4 6 8 10 12 14 16 18 20 "
     ]
    }
   ],
   "source": [
    "for n in even:\n",
    "    print (n, end = ' ')"
   ]
  },
  {
   "cell_type": "code",
   "execution_count": 6,
   "id": "7c84c628",
   "metadata": {},
   "outputs": [
    {
     "name": "stdout",
     "output_type": "stream",
     "text": [
      "0 2 4 6 8 10 12 14 16 18 20 "
     ]
    }
   ],
   "source": [
    "x = 0\n",
    "while x <= 20:\n",
    "    print(x, end = \" \")\n",
    "    x = x + 2"
   ]
  },
  {
   "cell_type": "code",
   "execution_count": 7,
   "id": "e699a05f",
   "metadata": {},
   "outputs": [
    {
     "name": "stdout",
     "output_type": "stream",
     "text": [
      "0 2 4 6 8 10 12 14 16 18 20 "
     ]
    }
   ],
   "source": [
    "x = 0\n",
    "while x <= 20:\n",
    "    print(x, end = \" \")\n",
    "    x += 2"
   ]
  },
  {
   "cell_type": "markdown",
   "id": "e56f32eb",
   "metadata": {},
   "source": [
    "Create lists with the range"
   ]
  },
  {
   "cell_type": "code",
   "execution_count": 8,
   "id": "4690707e",
   "metadata": {},
   "outputs": [
    {
     "data": {
      "text/plain": [
       "range(0, 10)"
      ]
     },
     "execution_count": 8,
     "metadata": {},
     "output_type": "execute_result"
    }
   ],
   "source": [
    "range(10)\n",
    "#works with 3 arguments\n",
    "#range(start, stop, step)"
   ]
  },
  {
   "cell_type": "code",
   "execution_count": 9,
   "id": "f95e1d72",
   "metadata": {},
   "outputs": [
    {
     "data": {
      "text/plain": [
       "[0, 1, 2, 3, 4, 5, 6, 7, 8, 9]"
      ]
     },
     "execution_count": 9,
     "metadata": {},
     "output_type": "execute_result"
    }
   ],
   "source": [
    "list(range(10))"
   ]
  },
  {
   "cell_type": "code",
   "execution_count": 10,
   "id": "fca20772",
   "metadata": {},
   "outputs": [
    {
     "data": {
      "text/plain": [
       "range(3, 7)"
      ]
     },
     "execution_count": 10,
     "metadata": {},
     "output_type": "execute_result"
    }
   ],
   "source": [
    "range(3,7)"
   ]
  },
  {
   "cell_type": "code",
   "execution_count": 11,
   "id": "8aa6bb15",
   "metadata": {},
   "outputs": [
    {
     "data": {
      "text/plain": [
       "[3, 4, 5, 6]"
      ]
     },
     "execution_count": 11,
     "metadata": {},
     "output_type": "execute_result"
    }
   ],
   "source": [
    "list(range(3,7))"
   ]
  },
  {
   "cell_type": "code",
   "execution_count": 12,
   "id": "6bb7c90e",
   "metadata": {},
   "outputs": [
    {
     "data": {
      "text/plain": [
       "range(1, 20, 2)"
      ]
     },
     "execution_count": 12,
     "metadata": {},
     "output_type": "execute_result"
    }
   ],
   "source": [
    "range(1,20,2)"
   ]
  },
  {
   "cell_type": "code",
   "execution_count": 13,
   "id": "2f5b3798",
   "metadata": {},
   "outputs": [
    {
     "data": {
      "text/plain": [
       "[1, 3, 5, 7, 9, 11, 13, 15, 17, 19]"
      ]
     },
     "execution_count": 13,
     "metadata": {},
     "output_type": "execute_result"
    }
   ],
   "source": [
    "list(range(1,20,2))"
   ]
  },
  {
   "cell_type": "markdown",
   "id": "65d8096c",
   "metadata": {},
   "source": [
    "Use conditional STATEMENTS AND LOOPS"
   ]
  },
  {
   "cell_type": "code",
   "execution_count": 15,
   "id": "d062c3fb",
   "metadata": {},
   "outputs": [
    {
     "name": "stdout",
     "output_type": "stream",
     "text": [
      "1 2 4 8 16 32 64 128 256 512 "
     ]
    }
   ],
   "source": [
    "for n in range(10):\n",
    "    print(2 ** n, end =\" \")"
   ]
  },
  {
   "cell_type": "code",
   "execution_count": 16,
   "id": "c1392261",
   "metadata": {},
   "outputs": [
    {
     "name": "stdout",
     "output_type": "stream",
     "text": [
      "0 Odd 2 Odd 4 Odd 6 Odd 8 Odd 10 Odd 12 Odd 14 Odd 16 Odd 18 Odd "
     ]
    }
   ],
   "source": [
    "for x in range(20):\n",
    "    if x % 2 == 0:\n",
    "        print(x, end = \" \")\n",
    "    else:\n",
    "        print(\"Odd\", end = \" \")"
   ]
  },
  {
   "cell_type": "code",
   "execution_count": 17,
   "id": "b98ed980",
   "metadata": {},
   "outputs": [
    {
     "name": "stdout",
     "output_type": "stream",
     "text": [
      "0 1 2 "
     ]
    }
   ],
   "source": [
    "x = [0,1,2]\n",
    "\n",
    "for item in x:\n",
    "    print(item, end =\" \")"
   ]
  },
  {
   "cell_type": "code",
   "execution_count": 18,
   "id": "3f1a3181",
   "metadata": {},
   "outputs": [
    {
     "name": "stdout",
     "output_type": "stream",
     "text": [
      "0 1 2 "
     ]
    }
   ],
   "source": [
    "for item in range(len(x)):\n",
    "    print(x[item], end =\" \")"
   ]
  },
  {
   "cell_type": "markdown",
   "id": "955e57fa",
   "metadata": {},
   "source": [
    "ALL IN"
   ]
  },
  {
   "cell_type": "code",
   "execution_count": 22,
   "id": "d849f11a",
   "metadata": {},
   "outputs": [
    {
     "data": {
      "text/plain": [
       "4"
      ]
     },
     "execution_count": 22,
     "metadata": {},
     "output_type": "execute_result"
    }
   ],
   "source": [
    "def count(numbers):\n",
    "    total = 0\n",
    "    for x in numbers:\n",
    "        if x < 20:\n",
    "            total += 1\n",
    "    return total\n",
    "\n",
    "list_1 = [1,3,7,15,23,43,56,98, 20]\n",
    "count(list_1)"
   ]
  },
  {
   "cell_type": "markdown",
   "id": "ab7fbfe8",
   "metadata": {},
   "source": [
    "Iterating over Dictionaries"
   ]
  },
  {
   "cell_type": "code",
   "execution_count": 23,
   "id": "afa394b2",
   "metadata": {},
   "outputs": [
    {
     "name": "stdout",
     "output_type": "stream",
     "text": [
      "74\n"
     ]
    }
   ],
   "source": [
    "prices = {\n",
    "    \"box_of_spaghetti\" : 4,\n",
    "    \"lasagna\" : 5,\n",
    "    \"hamburger\": 2,\n",
    "}\n",
    "quantity ={\n",
    "    \"box_of_spaghetti\" : 6,\n",
    "    \"lasagna\" : 10,\n",
    "    \"hamburger\": 0,\n",
    "}\n",
    "\n",
    "money_spent = 0\n",
    "\n",
    "for i in prices:\n",
    "    money_spent = money_spent + (prices[i] * quantity[i])\n",
    "    \n",
    "print(money_spent)\n",
    "    "
   ]
  },
  {
   "cell_type": "code",
   "execution_count": null,
   "id": "204802aa",
   "metadata": {},
   "outputs": [],
   "source": []
  }
 ],
 "metadata": {
  "kernelspec": {
   "display_name": "Python 3 (ipykernel)",
   "language": "python",
   "name": "python3"
  },
  "language_info": {
   "codemirror_mode": {
    "name": "ipython",
    "version": 3
   },
   "file_extension": ".py",
   "mimetype": "text/x-python",
   "name": "python",
   "nbconvert_exporter": "python",
   "pygments_lexer": "ipython3",
   "version": "3.9.7"
  }
 },
 "nbformat": 4,
 "nbformat_minor": 5
}
