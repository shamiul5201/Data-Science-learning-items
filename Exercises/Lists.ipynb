{
 "cells": [
  {
   "cell_type": "code",
   "execution_count": 2,
   "id": "b916556e",
   "metadata": {},
   "outputs": [
    {
     "data": {
      "text/plain": [
       "['john', 'leila', 'gregory', 'cate']"
      ]
     },
     "execution_count": 2,
     "metadata": {},
     "output_type": "execute_result"
    }
   ],
   "source": [
    "participants = ['john', 'leila', 'gregory', 'cate']\n",
    "participants"
   ]
  },
  {
   "cell_type": "code",
   "execution_count": 3,
   "id": "03da4a32",
   "metadata": {},
   "outputs": [
    {
     "name": "stdout",
     "output_type": "stream",
     "text": [
      "gregory\n"
     ]
    }
   ],
   "source": [
    "print(participants[2])"
   ]
  },
  {
   "cell_type": "code",
   "execution_count": 4,
   "id": "09105f24",
   "metadata": {},
   "outputs": [
    {
     "data": {
      "text/plain": [
       "'cate'"
      ]
     },
     "execution_count": 4,
     "metadata": {},
     "output_type": "execute_result"
    }
   ],
   "source": [
    "participants[-1]"
   ]
  },
  {
   "cell_type": "code",
   "execution_count": 5,
   "id": "ec6c8704",
   "metadata": {},
   "outputs": [
    {
     "data": {
      "text/plain": [
       "'gregory'"
      ]
     },
     "execution_count": 5,
     "metadata": {},
     "output_type": "execute_result"
    }
   ],
   "source": [
    "participants[-2]"
   ]
  },
  {
   "cell_type": "code",
   "execution_count": 7,
   "id": "c4bdad56",
   "metadata": {},
   "outputs": [
    {
     "data": {
      "text/plain": [
       "['john', 'leila', 'gregory', 'Maria']"
      ]
     },
     "execution_count": 7,
     "metadata": {},
     "output_type": "execute_result"
    }
   ],
   "source": [
    "participants[3] = 'Maria'\n",
    "participants"
   ]
  },
  {
   "cell_type": "code",
   "execution_count": 18,
   "id": "2a29107b",
   "metadata": {},
   "outputs": [
    {
     "data": {
      "text/plain": [
       "['john']"
      ]
     },
     "execution_count": 18,
     "metadata": {},
     "output_type": "execute_result"
    }
   ],
   "source": [
    "participants"
   ]
  },
  {
   "cell_type": "code",
   "execution_count": 19,
   "id": "5d0b1b9b",
   "metadata": {},
   "outputs": [
    {
     "data": {
      "text/plain": [
       "['john', 'leila', 'gregory', 'cate']"
      ]
     },
     "execution_count": 19,
     "metadata": {},
     "output_type": "execute_result"
    }
   ],
   "source": [
    "participants = ['john', 'leila', 'gregory', 'cate']\n",
    "participants"
   ]
  },
  {
   "cell_type": "code",
   "execution_count": 20,
   "id": "f68d0754",
   "metadata": {},
   "outputs": [
    {
     "name": "stdout",
     "output_type": "stream",
     "text": [
      "leila\n"
     ]
    }
   ],
   "source": [
    "print(participants[1])"
   ]
  },
  {
   "cell_type": "code",
   "execution_count": 26,
   "id": "83b07230",
   "metadata": {},
   "outputs": [
    {
     "data": {
      "text/plain": [
       "'cate'"
      ]
     },
     "execution_count": 26,
     "metadata": {},
     "output_type": "execute_result"
    }
   ],
   "source": [
    "participants[-1] "
   ]
  },
  {
   "cell_type": "code",
   "execution_count": 27,
   "id": "7a5ff36b",
   "metadata": {},
   "outputs": [
    {
     "data": {
      "text/plain": [
       "['john', 'leila', 'gregory', 'Maria']"
      ]
     },
     "execution_count": 27,
     "metadata": {},
     "output_type": "execute_result"
    }
   ],
   "source": [
    "participants[3] = 'Maria'\n",
    "participants"
   ]
  },
  {
   "cell_type": "code",
   "execution_count": 28,
   "id": "a0998534",
   "metadata": {},
   "outputs": [
    {
     "data": {
      "text/plain": [
       "['john', 'leila', 'Maria']"
      ]
     },
     "execution_count": 28,
     "metadata": {},
     "output_type": "execute_result"
    }
   ],
   "source": [
    "del participants[2]\n",
    "participants"
   ]
  },
  {
   "cell_type": "markdown",
   "id": "4efdc739",
   "metadata": {},
   "source": [
    "Methods"
   ]
  },
  {
   "cell_type": "code",
   "execution_count": 29,
   "id": "e957ba89",
   "metadata": {},
   "outputs": [
    {
     "data": {
      "text/plain": [
       "['john', 'leila', 'Maria', 'Dwayne']"
      ]
     },
     "execution_count": 29,
     "metadata": {},
     "output_type": "execute_result"
    }
   ],
   "source": [
    "participants.append(\"Dwayne\")\n",
    "participants"
   ]
  },
  {
   "cell_type": "code",
   "execution_count": 30,
   "id": "0d787cd3",
   "metadata": {},
   "outputs": [
    {
     "data": {
      "text/plain": [
       "['john', 'leila', 'Maria', 'Dwayne', 'George', 'Catherine']"
      ]
     },
     "execution_count": 30,
     "metadata": {},
     "output_type": "execute_result"
    }
   ],
   "source": [
    "participants.extend(['George', 'Catherine'])\n",
    "participants"
   ]
  },
  {
   "cell_type": "code",
   "execution_count": 33,
   "id": "54e9f95b",
   "metadata": {},
   "outputs": [
    {
     "name": "stdout",
     "output_type": "stream",
     "text": [
      "The first participant is john.\n"
     ]
    }
   ],
   "source": [
    "print('The first participant is ' + participants[0] + '.')"
   ]
  },
  {
   "cell_type": "code",
   "execution_count": 34,
   "id": "6699f5a9",
   "metadata": {},
   "outputs": [
    {
     "data": {
      "text/plain": [
       "6"
      ]
     },
     "execution_count": 34,
     "metadata": {},
     "output_type": "execute_result"
    }
   ],
   "source": [
    "len(participants)\n",
    "#built in methods can applied directly"
   ]
  },
  {
   "cell_type": "code",
   "execution_count": null,
   "id": "2f4bdfbb",
   "metadata": {},
   "outputs": [],
   "source": []
  }
 ],
 "metadata": {
  "kernelspec": {
   "display_name": "Python 3 (ipykernel)",
   "language": "python",
   "name": "python3"
  },
  "language_info": {
   "codemirror_mode": {
    "name": "ipython",
    "version": 3
   },
   "file_extension": ".py",
   "mimetype": "text/x-python",
   "name": "python",
   "nbconvert_exporter": "python",
   "pygments_lexer": "ipython3",
   "version": "3.9.7"
  }
 },
 "nbformat": 4,
 "nbformat_minor": 5
}
