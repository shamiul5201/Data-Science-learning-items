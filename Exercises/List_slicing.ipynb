{
 "cells": [
  {
   "cell_type": "code",
   "execution_count": 1,
   "id": "e6c96a53",
   "metadata": {},
   "outputs": [
    {
     "data": {
      "text/plain": [
       "['john', 'leila', 'gregory', 'cate', 'Dwayne', 'maria']"
      ]
     },
     "execution_count": 1,
     "metadata": {},
     "output_type": "execute_result"
    }
   ],
   "source": [
    "p = ['john', 'leila', 'gregory', 'cate', 'Dwayne', 'maria']\n",
    "p"
   ]
  },
  {
   "cell_type": "code",
   "execution_count": 2,
   "id": "766ae1d4",
   "metadata": {},
   "outputs": [
    {
     "data": {
      "text/plain": [
       "['leila', 'gregory']"
      ]
     },
     "execution_count": 2,
     "metadata": {},
     "output_type": "execute_result"
    }
   ],
   "source": [
    "p [1:3]"
   ]
  },
  {
   "cell_type": "code",
   "execution_count": 3,
   "id": "3ce4c256",
   "metadata": {},
   "outputs": [
    {
     "data": {
      "text/plain": [
       "['john', 'leila']"
      ]
     },
     "execution_count": 3,
     "metadata": {},
     "output_type": "execute_result"
    }
   ],
   "source": [
    "p [:2]"
   ]
  },
  {
   "cell_type": "code",
   "execution_count": 4,
   "id": "1c39fc79",
   "metadata": {},
   "outputs": [
    {
     "data": {
      "text/plain": [
       "['Dwayne', 'maria']"
      ]
     },
     "execution_count": 4,
     "metadata": {},
     "output_type": "execute_result"
    }
   ],
   "source": [
    "p [4:6]"
   ]
  },
  {
   "cell_type": "code",
   "execution_count": 5,
   "id": "f8333174",
   "metadata": {},
   "outputs": [
    {
     "data": {
      "text/plain": [
       "['Dwayne', 'maria']"
      ]
     },
     "execution_count": 5,
     "metadata": {},
     "output_type": "execute_result"
    }
   ],
   "source": [
    "p [-2:]"
   ]
  },
  {
   "cell_type": "code",
   "execution_count": 6,
   "id": "964cfd7a",
   "metadata": {},
   "outputs": [
    {
     "data": {
      "text/plain": [
       "['gregory', 'cate', 'Dwayne', 'maria']"
      ]
     },
     "execution_count": 6,
     "metadata": {},
     "output_type": "execute_result"
    }
   ],
   "source": [
    "p [-4:]"
   ]
  },
  {
   "cell_type": "code",
   "execution_count": 7,
   "id": "b2c6371b",
   "metadata": {},
   "outputs": [
    {
     "data": {
      "text/plain": [
       "2"
      ]
     },
     "execution_count": 7,
     "metadata": {},
     "output_type": "execute_result"
    }
   ],
   "source": [
    "p.index('gregory')"
   ]
  },
  {
   "cell_type": "code",
   "execution_count": 8,
   "id": "7cee8de4",
   "metadata": {},
   "outputs": [
    {
     "data": {
      "text/plain": [
       "['1', '2', '3', '4']"
      ]
     },
     "execution_count": 8,
     "metadata": {},
     "output_type": "execute_result"
    }
   ],
   "source": [
    "n_co = ['1','2','3','4']\n",
    "n_co"
   ]
  },
  {
   "cell_type": "code",
   "execution_count": 10,
   "id": "bfa774e2",
   "metadata": {},
   "outputs": [
    {
     "data": {
      "text/plain": [
       "[['john', 'leila', 'gregory', 'cate', 'Dwayne', 'maria'], ['1', '2', '3', '4']]"
      ]
     },
     "execution_count": 10,
     "metadata": {},
     "output_type": "execute_result"
    }
   ],
   "source": [
    "Big_list = [p, n_co]\n",
    "Big_list"
   ]
  },
  {
   "cell_type": "code",
   "execution_count": 12,
   "id": "707890d4",
   "metadata": {},
   "outputs": [
    {
     "data": {
      "text/plain": [
       "['Dwayne', 'cate', 'gregory', 'john', 'leila', 'maria']"
      ]
     },
     "execution_count": 12,
     "metadata": {},
     "output_type": "execute_result"
    }
   ],
   "source": [
    "p.sort()\n",
    "p"
   ]
  },
  {
   "cell_type": "code",
   "execution_count": 13,
   "id": "18a5f451",
   "metadata": {},
   "outputs": [
    {
     "data": {
      "text/plain": [
       "['maria', 'leila', 'john', 'gregory', 'cate', 'Dwayne']"
      ]
     },
     "execution_count": 13,
     "metadata": {},
     "output_type": "execute_result"
    }
   ],
   "source": [
    "p.sort(reverse = True)\n",
    "p"
   ]
  },
  {
   "cell_type": "code",
   "execution_count": 14,
   "id": "7d0afae6",
   "metadata": {},
   "outputs": [
    {
     "data": {
      "text/plain": [
       "['1', '2', '3', '4', '5', '6', '7', '8']"
      ]
     },
     "execution_count": 14,
     "metadata": {},
     "output_type": "execute_result"
    }
   ],
   "source": [
    "number = ['1','2','3','4','5','6','7','8']\n",
    "number.sort()\n",
    "number"
   ]
  },
  {
   "cell_type": "code",
   "execution_count": 15,
   "id": "eba2835b",
   "metadata": {},
   "outputs": [
    {
     "data": {
      "text/plain": [
       "['8', '7', '6', '5', '4', '3', '2', '1']"
      ]
     },
     "execution_count": 15,
     "metadata": {},
     "output_type": "execute_result"
    }
   ],
   "source": [
    "number.sort(reverse = True)\n",
    "number"
   ]
  },
  {
   "cell_type": "markdown",
   "id": "3a395693",
   "metadata": {},
   "source": [
    "Tuple:"
   ]
  },
  {
   "cell_type": "code",
   "execution_count": 16,
   "id": "7485f4cf",
   "metadata": {},
   "outputs": [
    {
     "data": {
      "text/plain": [
       "(40, 41, 42)"
      ]
     },
     "execution_count": 16,
     "metadata": {},
     "output_type": "execute_result"
    }
   ],
   "source": [
    "x = (40,41,42)\n",
    "x"
   ]
  },
  {
   "cell_type": "code",
   "execution_count": 17,
   "id": "d8c9e379",
   "metadata": {},
   "outputs": [
    {
     "data": {
      "text/plain": [
       "(50, 51, 52)"
      ]
     },
     "execution_count": 17,
     "metadata": {},
     "output_type": "execute_result"
    }
   ],
   "source": [
    "y = 50, 51, 52\n",
    "y"
   ]
  },
  {
   "cell_type": "code",
   "execution_count": 18,
   "id": "bcdc5f70",
   "metadata": {},
   "outputs": [
    {
     "data": {
      "text/plain": [
       "6"
      ]
     },
     "execution_count": 18,
     "metadata": {},
     "output_type": "execute_result"
    }
   ],
   "source": [
    "a, b, c = 1, 4, 6\n",
    "c"
   ]
  },
  {
   "cell_type": "code",
   "execution_count": 39,
   "id": "b3e5cc83",
   "metadata": {},
   "outputs": [
    {
     "data": {
      "text/plain": [
       "41"
      ]
     },
     "execution_count": 39,
     "metadata": {},
     "output_type": "execute_result"
    }
   ],
   "source": [
    "x[0] "
   ]
  },
  {
   "cell_type": "code",
   "execution_count": 20,
   "id": "ef562aaf",
   "metadata": {},
   "outputs": [
    {
     "data": {
      "text/plain": [
       "[(40, 41, 42), (50, 51, 52)]"
      ]
     },
     "execution_count": 20,
     "metadata": {},
     "output_type": "execute_result"
    }
   ],
   "source": [
    "list_1 = [x,y]\n",
    "list_1"
   ]
  },
  {
   "cell_type": "code",
   "execution_count": 40,
   "id": "7f19c959",
   "metadata": {},
   "outputs": [
    {
     "name": "stdout",
     "output_type": "stream",
     "text": [
      "30,\n",
      "17\n"
     ]
    }
   ],
   "source": [
    "(age,y_of_scl) = \"30, 17\".split()\n",
    "print(age)\n",
    "print(y_of_scl)"
   ]
  },
  {
   "cell_type": "code",
   "execution_count": 22,
   "id": "f6880ac5",
   "metadata": {},
   "outputs": [
    {
     "name": "stdout",
     "output_type": "stream",
     "text": [
      "Area and perimeter\n"
     ]
    },
    {
     "data": {
      "text/plain": [
       "(9, 12)"
      ]
     },
     "execution_count": 22,
     "metadata": {},
     "output_type": "execute_result"
    }
   ],
   "source": [
    "def square_info(x):\n",
    "    A = x ** 2\n",
    "    P = 4 * x\n",
    "    print(\"Area and perimeter\")\n",
    "    return A,P\n",
    "square_info(3)"
   ]
  },
  {
   "cell_type": "markdown",
   "id": "7c1c46c0",
   "metadata": {},
   "source": [
    "Dictionaries"
   ]
  },
  {
   "cell_type": "code",
   "execution_count": 24,
   "id": "a0fb1527",
   "metadata": {},
   "outputs": [
    {
     "data": {
      "text/plain": [
       "{'k1': 'cat', 'k2': 'dog', 'k3': 'mouse', 'k4': 'fish'}"
      ]
     },
     "execution_count": 24,
     "metadata": {},
     "output_type": "execute_result"
    }
   ],
   "source": [
    "dict = {'k1':\"cat\", 'k2':\"dog\", 'k3':\"mouse\", 'k4':\"fish\"}\n",
    "dict"
   ]
  },
  {
   "cell_type": "code",
   "execution_count": 25,
   "id": "ffdd399d",
   "metadata": {},
   "outputs": [
    {
     "data": {
      "text/plain": [
       "'cat'"
      ]
     },
     "execution_count": 25,
     "metadata": {},
     "output_type": "execute_result"
    }
   ],
   "source": [
    "dict['k1']"
   ]
  },
  {
   "cell_type": "code",
   "execution_count": 26,
   "id": "89369d33",
   "metadata": {},
   "outputs": [
    {
     "data": {
      "text/plain": [
       "{'k1': 'cat', 'k2': 'dog', 'k3': 'mouse', 'k4': 'fish', 'k5': 'parrot'}"
      ]
     },
     "execution_count": 26,
     "metadata": {},
     "output_type": "execute_result"
    }
   ],
   "source": [
    "dict['k5'] = 'parrot'\n",
    "dict"
   ]
  },
  {
   "cell_type": "code",
   "execution_count": 28,
   "id": "90183cd2",
   "metadata": {},
   "outputs": [
    {
     "data": {
      "text/plain": [
       "{'k1': 'cat', 'k2': 'squirrel', 'k3': 'mouse', 'k4': 'fish', 'k5': 'parrot'}"
      ]
     },
     "execution_count": 28,
     "metadata": {},
     "output_type": "execute_result"
    }
   ],
   "source": [
    "dict['k2'] = 'squirrel'\n",
    "dict"
   ]
  },
  {
   "cell_type": "markdown",
   "id": "6c0122f6",
   "metadata": {},
   "source": [
    "Another Example of dictionary"
   ]
  },
  {
   "cell_type": "code",
   "execution_count": 29,
   "id": "b8e65ded",
   "metadata": {},
   "outputs": [
    {
     "data": {
      "text/plain": [
       "['Jennifer', 'Michael', 'Tommy']"
      ]
     },
     "execution_count": 29,
     "metadata": {},
     "output_type": "execute_result"
    }
   ],
   "source": [
    "dep_workers = {'dep_1':'Peter', 'dep_2':['Jennifer', 'Michael', 'Tommy']}\n",
    "dep_workers['dep_2']"
   ]
  },
  {
   "cell_type": "code",
   "execution_count": 31,
   "id": "90835ea3",
   "metadata": {},
   "outputs": [],
   "source": [
    "Team = {}\n",
    "Team['Point Guard'] = 'Dirk'\n",
    "Team['Shooting Guard'] = 'A1'\n",
    "Team['Small forward'] = 'Sean'\n",
    "Team['Power forward'] = 'Alexandar'\n",
    "Team['Center'] = 'Hector'\n"
   ]
  },
  {
   "cell_type": "code",
   "execution_count": 32,
   "id": "f31110af",
   "metadata": {},
   "outputs": [
    {
     "name": "stdout",
     "output_type": "stream",
     "text": [
      "{'Point Guard': 'Dirk', 'Shooting Guard': 'A1', 'Small forward': 'Sean', 'Power forward': 'Alexandar', 'Center': 'Hector'}\n"
     ]
    }
   ],
   "source": [
    "print(Team)"
   ]
  },
  {
   "cell_type": "code",
   "execution_count": 35,
   "id": "37cb1087",
   "metadata": {},
   "outputs": [
    {
     "name": "stdout",
     "output_type": "stream",
     "text": [
      "Hector\n"
     ]
    }
   ],
   "source": [
    "print(Team['Center'])"
   ]
  },
  {
   "cell_type": "code",
   "execution_count": 37,
   "id": "a701ac64",
   "metadata": {},
   "outputs": [
    {
     "name": "stdout",
     "output_type": "stream",
     "text": [
      "Sean\n"
     ]
    }
   ],
   "source": [
    "print(Team.get('Small forward'))"
   ]
  },
  {
   "cell_type": "code",
   "execution_count": 38,
   "id": "635c7243",
   "metadata": {},
   "outputs": [
    {
     "name": "stdout",
     "output_type": "stream",
     "text": [
      "None\n"
     ]
    }
   ],
   "source": [
    "print(Team.get('Small Forward'))"
   ]
  },
  {
   "cell_type": "code",
   "execution_count": null,
   "id": "b750191a",
   "metadata": {},
   "outputs": [],
   "source": []
  }
 ],
 "metadata": {
  "kernelspec": {
   "display_name": "Python 3 (ipykernel)",
   "language": "python",
   "name": "python3"
  },
  "language_info": {
   "codemirror_mode": {
    "name": "ipython",
    "version": 3
   },
   "file_extension": ".py",
   "mimetype": "text/x-python",
   "name": "python",
   "nbconvert_exporter": "python",
   "pygments_lexer": "ipython3",
   "version": "3.9.7"
  }
 },
 "nbformat": 4,
 "nbformat_minor": 5
}
